{
 "cells": [
  {
   "cell_type": "markdown",
   "id": "055e1d88",
   "metadata": {},
   "source": [
    "# Dictionaries"
   ]
  },
  {
   "cell_type": "code",
   "execution_count": 3,
   "id": "fc07370f",
   "metadata": {},
   "outputs": [
    {
     "name": "stdout",
     "output_type": "stream",
     "text": [
      "{'name': 'laura', 'age': 45, 'role': 'sales representative'}\n"
     ]
    }
   ],
   "source": [
    "Employee_details = {\n",
    "  \"name\": \"laura\",\n",
    "  \"age\": 45,\n",
    "  \"role\": \"sales representative\"\n",
    "}\n",
    "print(Employee_details)"
   ]
  },
  {
   "cell_type": "markdown",
   "id": "da3717bf",
   "metadata": {},
   "source": [
    "Accessing items in the dictionaries"
   ]
  },
  {
   "cell_type": "code",
   "execution_count": 7,
   "id": "5b022f31",
   "metadata": {},
   "outputs": [
    {
     "name": "stdout",
     "output_type": "stream",
     "text": [
      "45\n"
     ]
    }
   ],
   "source": [
    "Employee_details = {\n",
    "  \"name\": \"laura\",\n",
    "  \"age\": 45,#using keyname to access values\n",
    "  \"role\": \"sales representative\"\n",
    "}\n",
    "details = Employee_details[\"age\"]\n",
    "print(details)"
   ]
  },
  {
   "cell_type": "code",
   "execution_count": 27,
   "id": "cfacd8b4",
   "metadata": {},
   "outputs": [
    {
     "name": "stdout",
     "output_type": "stream",
     "text": [
      "dict_keys(['name', 'role', 'age'])\n"
     ]
    }
   ],
   "source": [
    "employeedetails =  {\n",
    "  \"name\": \"rarw\",\n",
    "  \"role\": \"salesreprentatives\",\n",
    "  \"age\": 44\n",
    "}\n",
    "detail = employeedetails.keys()\n",
    "print(detail)"
   ]
  },
  {
   "cell_type": "code",
   "execution_count": 24,
   "id": "6dd7a397",
   "metadata": {},
   "outputs": [
    {
     "name": "stdout",
     "output_type": "stream",
     "text": [
      "salesreprentatives\n"
     ]
    }
   ],
   "source": [
    "employeedetails =  {\n",
    "  \"name\": \"rarw\",\n",
    "  \"role\": \"salesreprentatives\",\n",
    "  \"age\": 44\n",
    "}\n",
    "detail = employeedetails.get(\"role\")\n",
    "print(detail)\n"
   ]
  },
  {
   "cell_type": "code",
   "execution_count": 25,
   "id": "89b95799",
   "metadata": {},
   "outputs": [
    {
     "name": "stdout",
     "output_type": "stream",
     "text": [
      "dict_values(['rarw', 'salesreprentatives', 44])\n"
     ]
    }
   ],
   "source": [
    "employeedetails =  {\n",
    "  \"name\": \"rarw\",\n",
    "  \"role\": \"salesreprentatives\",\n",
    "  \"age\": 44\n",
    "}\n",
    "detail = employeedetails.values()\n",
    "print(detail)\n"
   ]
  },
  {
   "cell_type": "code",
   "execution_count": 26,
   "id": "64c08882",
   "metadata": {},
   "outputs": [
    {
     "name": "stdout",
     "output_type": "stream",
     "text": [
      "dict_items([('name', 'rarw'), ('role', 'salesreprentatives'), ('age', 44)])\n"
     ]
    }
   ],
   "source": [
    "employeedetails =  {\n",
    "  \"name\": \"rarw\",\n",
    "  \"role\": \"salesreprentatives\",\n",
    "  \"age\": 44\n",
    "}\n",
    "detail = employeedetails.items()\n",
    "print(detail)"
   ]
  },
  {
   "cell_type": "code",
   "execution_count": null,
   "id": "f59fe995",
   "metadata": {},
   "outputs": [],
   "source": []
  }
 ],
 "metadata": {
  "kernelspec": {
   "display_name": "Python 3 (ipykernel)",
   "language": "python",
   "name": "python3"
  },
  "language_info": {
   "codemirror_mode": {
    "name": "ipython",
    "version": 3
   },
   "file_extension": ".py",
   "mimetype": "text/x-python",
   "name": "python",
   "nbconvert_exporter": "python",
   "pygments_lexer": "ipython3",
   "version": "3.10.9"
  }
 },
 "nbformat": 4,
 "nbformat_minor": 5
}
